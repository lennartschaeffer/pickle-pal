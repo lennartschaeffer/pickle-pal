{
  "nbformat": 4,
  "nbformat_minor": 0,
  "metadata": {
    "colab": {
      "provenance": [],
      "gpuType": "T4"
    },
    "kernelspec": {
      "name": "python3",
      "display_name": "Python 3"
    },
    "language_info": {
      "name": "python"
    },
    "accelerator": "GPU"
  },
  "cells": [
    {
      "cell_type": "code",
      "execution_count": 1,
      "metadata": {
        "colab": {
          "base_uri": "https://localhost:8080/"
        },
        "id": "gtYuY8uB2ij_",
        "outputId": "574f36f7-d98f-413b-e41d-de42e59c07d9",
        "collapsed": true
      },
      "outputs": [
        {
          "output_type": "stream",
          "name": "stdout",
          "text": [
            "Requirement already satisfied: kagglehub in /usr/local/lib/python3.12/dist-packages (0.3.12)\n",
            "Requirement already satisfied: packaging in /usr/local/lib/python3.12/dist-packages (from kagglehub) (25.0)\n",
            "Requirement already satisfied: pyyaml in /usr/local/lib/python3.12/dist-packages (from kagglehub) (6.0.2)\n",
            "Requirement already satisfied: requests in /usr/local/lib/python3.12/dist-packages (from kagglehub) (2.32.4)\n",
            "Requirement already satisfied: tqdm in /usr/local/lib/python3.12/dist-packages (from kagglehub) (4.67.1)\n",
            "Requirement already satisfied: charset_normalizer<4,>=2 in /usr/local/lib/python3.12/dist-packages (from requests->kagglehub) (3.4.3)\n",
            "Requirement already satisfied: idna<4,>=2.5 in /usr/local/lib/python3.12/dist-packages (from requests->kagglehub) (3.10)\n",
            "Requirement already satisfied: urllib3<3,>=1.21.1 in /usr/local/lib/python3.12/dist-packages (from requests->kagglehub) (2.5.0)\n",
            "Requirement already satisfied: certifi>=2017.4.17 in /usr/local/lib/python3.12/dist-packages (from requests->kagglehub) (2025.8.3)\n",
            "Warning: Looks like you're using an outdated `kagglehub` version (installed: 0.3.12), please consider upgrading to the latest version (0.3.13).\n",
            "Downloading from https://www.kaggle.com/api/v1/datasets/download/orvile/tennis-player-actions-dataset?dataset_version_number=1...\n"
          ]
        },
        {
          "output_type": "stream",
          "name": "stderr",
          "text": [
            "100%|██████████| 503M/503M [00:25<00:00, 21.1MB/s]"
          ]
        },
        {
          "output_type": "stream",
          "name": "stdout",
          "text": [
            "Extracting files...\n"
          ]
        },
        {
          "output_type": "stream",
          "name": "stderr",
          "text": [
            "\n"
          ]
        },
        {
          "output_type": "stream",
          "name": "stdout",
          "text": [
            "Dataset files saved to: /root/.cache/kagglehub/datasets/orvile/tennis-player-actions-dataset/versions/1\n",
            "Files: ['Tennis Player Actions Dataset for Human Pose Estimation']\n"
          ]
        }
      ],
      "source": [
        "!pip install kagglehub\n",
        "\n",
        "import kagglehub\n",
        "import os\n",
        "\n",
        "# Download dataset\n",
        "path = kagglehub.dataset_download(\"orvile/tennis-player-actions-dataset\")\n",
        "\n",
        "print(\"Dataset files saved to:\", path)\n",
        "print(\"Files:\", os.listdir(path))\n"
      ]
    },
    {
      "cell_type": "code",
      "source": [
        "for root, dirs, files in os.walk(path):\n",
        "    level = root.replace(path, \"\").count(os.sep)  # indent based on depth\n",
        "    indent = \" \" * 4 * level\n",
        "    print(f\"{indent}{os.path.basename(root)}/\")\n",
        "    subindent = \" \" * 4 * (level + 1)\n",
        "    # print files inside annotations folder\n",
        "    if \"annotations\" in root:\n",
        "        for f in files:\n",
        "            print(f\"{subindent}{f}\")"
      ],
      "metadata": {
        "colab": {
          "base_uri": "https://localhost:8080/"
        },
        "id": "TS0pE6XXxYuV",
        "outputId": "3b9f53a8-578e-4ea1-e1dd-6e79b97157c1"
      },
      "execution_count": 2,
      "outputs": [
        {
          "output_type": "stream",
          "name": "stdout",
          "text": [
            "1/\n",
            "    Tennis Player Actions Dataset for Human Pose Estimation/\n",
            "        annotations/\n",
            "            ready_position.json\n",
            "            serve.json\n",
            "            forehand.json\n",
            "            backhand.json\n",
            "        images/\n",
            "            ready_position/\n",
            "            serve/\n",
            "            forehand/\n",
            "            backhand/\n"
          ]
        }
      ]
    },
    {
      "cell_type": "code",
      "source": [
        "class_names = [\"Backhand\", \"Forehand\"]\n",
        "global_cat2label = {name: idx for idx, name in enumerate(class_names)}\n",
        "print(global_cat2label)"
      ],
      "metadata": {
        "id": "nbaj029esVmo",
        "colab": {
          "base_uri": "https://localhost:8080/"
        },
        "outputId": "68452bd2-a45c-40e3-dd35-b38b09617229"
      },
      "execution_count": 3,
      "outputs": [
        {
          "output_type": "stream",
          "name": "stdout",
          "text": [
            "{'Backhand': 0, 'Forehand': 1}\n"
          ]
        }
      ]
    },
    {
      "cell_type": "code",
      "source": [
        "import json\n",
        "from torch.utils.data import Dataset\n",
        "import numpy as np\n",
        "import torch\n",
        "from torch.utils.data import DataLoader\n",
        "import torch.nn as nn\n",
        "\n",
        "class PoseDataset(Dataset):\n",
        "    def __init__(self, annotation_file, cat2label, transform=None):\n",
        "        with open(annotation_file, \"r\") as f:\n",
        "            self.coco = json.load(f)\n",
        "\n",
        "        self.images = {img[\"id\"]: img for img in self.coco[\"images\"]}\n",
        "        self.annotations = self.coco[\"annotations\"]\n",
        "\n",
        "        self.cat2label = cat2label\n",
        "        # Create a mapping from category ID to category name\n",
        "        self.id2cat = {cat[\"id\"]: cat[\"name\"] for cat in self.coco[\"categories\"]}\n",
        "        print(self.id2cat)\n",
        "        self.transform = transform\n",
        "\n",
        "    def __len__(self):\n",
        "        return len(self.annotations)\n",
        "\n",
        "    def __getitem__(self, idx):\n",
        "        ann = self.annotations[idx]\n",
        "        keypoints = np.array(ann[\"keypoints\"]).reshape(-1, 3)[:, :2]\n",
        "        category = ann[\"category_id\"]\n",
        "\n",
        "        # Find the category name using the dictionary lookup\n",
        "        cat_name = self.id2cat[category]\n",
        "        label = self.cat2label[cat_name]\n",
        "\n",
        "        keypoints = torch.tensor(keypoints, dtype=torch.float32).flatten()\n",
        "        label = torch.tensor(label, dtype=torch.long)\n",
        "\n",
        "        return keypoints, label"
      ],
      "metadata": {
        "id": "-7wC3wMh5bsP"
      },
      "execution_count": 4,
      "outputs": []
    },
    {
      "cell_type": "code",
      "source": [
        "class PoseClassifier(nn.Module):\n",
        "    def __init__(self, num_classes=2, num_keypoints=18):\n",
        "        super().__init__()\n",
        "        self.fc = nn.Sequential(\n",
        "            nn.Linear(num_keypoints * 2, 128), # 17 joints, all with x,y vals\n",
        "            nn.ReLU(),\n",
        "            nn.Dropout(0.3),\n",
        "            nn.Linear(128, 64),\n",
        "            nn.ReLU(),\n",
        "            nn.Linear(64, num_classes)\n",
        "        )\n",
        "\n",
        "    def forward(self, x):\n",
        "        return self.fc(x)"
      ],
      "metadata": {
        "id": "c9iUHxxwquor"
      },
      "execution_count": 5,
      "outputs": []
    },
    {
      "cell_type": "code",
      "source": [
        "from torch.utils.data import ConcatDataset\n",
        "from torch.utils.data import random_split\n",
        "\n",
        "annotation_dir = os.path.join(path, \"Tennis Player Actions Dataset for Human Pose Estimation\", \"annotations\")\n",
        "\n",
        "class_names = [\"Backhand\", \"Forehand\"]\n",
        "global_cat2label = {name: idx for idx, name in enumerate(class_names)}\n",
        "\n",
        "datasets_list = []\n",
        "for fname in [\"backhand.json\", \"forehand.json\"]:\n",
        "    dataset_part = PoseDataset(os.path.join(annotation_dir, fname), cat2label=global_cat2label)\n",
        "    datasets_list.append(dataset_part)\n",
        "\n",
        "dataset = ConcatDataset(datasets_list)\n",
        "\n",
        "train_size = int(0.7 * len(dataset))\n",
        "val_size = int(0.15 * len(dataset))\n",
        "test_size = len(dataset) - train_size - val_size\n",
        "\n",
        "train_dataset, val_dataset, test_dataset = random_split(dataset, [train_size, val_size, test_size])\n",
        "\n",
        "train_loader = DataLoader(train_dataset, batch_size=32, shuffle=True)\n",
        "val_loader = DataLoader(val_dataset, batch_size=32, shuffle=False)\n",
        "test_loader = DataLoader(test_dataset, batch_size=32, shuffle=False)"
      ],
      "metadata": {
        "id": "kmlWf4KpqwG5",
        "colab": {
          "base_uri": "https://localhost:8080/"
        },
        "outputId": "f0b72077-cf27-4d57-e0a5-60d95a3bf2a9"
      },
      "execution_count": 8,
      "outputs": [
        {
          "output_type": "stream",
          "name": "stdout",
          "text": [
            "{5: 'Backhand'}\n",
            "{6: 'Forehand'}\n"
          ]
        }
      ]
    },
    {
      "cell_type": "code",
      "source": [
        "device = torch.device(\"cuda\" if torch.cuda.is_available() else \"cpu\")\n",
        "\n",
        "model = PoseClassifier(num_classes=2).to(device)\n",
        "criterion = nn.CrossEntropyLoss()\n",
        "optimizer = torch.optim.Adam(model.parameters(), lr=1e-3)\n",
        "\n",
        "for epoch in range(50):\n",
        "    model.train()\n",
        "    total_loss, correct, total = 0, 0, 0\n",
        "\n",
        "    for X, y in train_loader:\n",
        "        X, y = X.to(device), y.to(device)\n",
        "\n",
        "        optimizer.zero_grad()\n",
        "        outputs = model(X)\n",
        "        loss = criterion(outputs, y)\n",
        "        loss.backward()\n",
        "        optimizer.step()\n",
        "\n",
        "        total_loss += loss.item()\n",
        "        _, predicted = outputs.max(1)\n",
        "        correct += (predicted == y).sum().item()\n",
        "        total += y.size(0)\n",
        "\n",
        "    train_acc = correct / total\n",
        "\n",
        "    # validation\n",
        "    model.eval()\n",
        "    val_correct, val_total, val_loss = 0, 0, 0\n",
        "    with torch.no_grad():\n",
        "        for X, y in val_loader:\n",
        "            X, y = X.to(device), y.to(device)\n",
        "            outputs = model(X)\n",
        "            loss = criterion(outputs, y)\n",
        "            val_loss += loss.item()\n",
        "\n",
        "            _, predicted = outputs.max(1)\n",
        "            val_correct += (predicted == y).sum().item()\n",
        "            val_total += y.size(0)\n",
        "\n",
        "    val_acc = val_correct / val_total\n",
        "\n",
        "    print(f\"Epoch {epoch+1}: \"\n",
        "          f\"Train Loss {total_loss/len(train_loader):.4f}, Train Acc {train_acc:.4f}, \"\n",
        "          f\"Val Loss {val_loss/len(val_loader):.4f}, Val Acc {val_acc:.4f}\")"
      ],
      "metadata": {
        "colab": {
          "base_uri": "https://localhost:8080/"
        },
        "id": "vuZ6HQHYqxbc",
        "outputId": "07201793-0682-4491-bd12-519c91b1a839"
      },
      "execution_count": 9,
      "outputs": [
        {
          "output_type": "stream",
          "name": "stdout",
          "text": [
            "Epoch 1: Train Loss 10.5664, Train Acc 0.6129, Val Loss 4.0860, Val Acc 0.5267\n",
            "Epoch 2: Train Loss 4.9765, Train Acc 0.6443, Val Loss 6.5848, Val Acc 0.5267\n",
            "Epoch 3: Train Loss 3.7222, Train Acc 0.6243, Val Loss 1.5311, Val Acc 0.7267\n",
            "Epoch 4: Train Loss 2.3036, Train Acc 0.6600, Val Loss 0.6642, Val Acc 0.7333\n",
            "Epoch 5: Train Loss 1.5607, Train Acc 0.6843, Val Loss 1.3078, Val Acc 0.5400\n",
            "Epoch 6: Train Loss 1.2763, Train Acc 0.7000, Val Loss 0.5364, Val Acc 0.7400\n",
            "Epoch 7: Train Loss 1.1097, Train Acc 0.6886, Val Loss 0.5220, Val Acc 0.7667\n",
            "Epoch 8: Train Loss 0.7887, Train Acc 0.7286, Val Loss 0.4815, Val Acc 0.8000\n",
            "Epoch 9: Train Loss 0.6856, Train Acc 0.7557, Val Loss 0.4664, Val Acc 0.7933\n",
            "Epoch 10: Train Loss 0.6339, Train Acc 0.7657, Val Loss 0.4606, Val Acc 0.8000\n",
            "Epoch 11: Train Loss 0.5558, Train Acc 0.7700, Val Loss 0.4235, Val Acc 0.7933\n",
            "Epoch 12: Train Loss 0.5271, Train Acc 0.7943, Val Loss 0.4700, Val Acc 0.7933\n",
            "Epoch 13: Train Loss 0.4871, Train Acc 0.8000, Val Loss 0.3729, Val Acc 0.7733\n",
            "Epoch 14: Train Loss 0.5370, Train Acc 0.7814, Val Loss 0.3687, Val Acc 0.7933\n",
            "Epoch 15: Train Loss 0.4845, Train Acc 0.8157, Val Loss 0.3872, Val Acc 0.8200\n",
            "Epoch 16: Train Loss 0.4867, Train Acc 0.8100, Val Loss 0.4396, Val Acc 0.7867\n",
            "Epoch 17: Train Loss 0.4926, Train Acc 0.7986, Val Loss 0.3549, Val Acc 0.8200\n",
            "Epoch 18: Train Loss 0.4175, Train Acc 0.8114, Val Loss 0.3158, Val Acc 0.8267\n",
            "Epoch 19: Train Loss 0.4044, Train Acc 0.8314, Val Loss 0.3348, Val Acc 0.8267\n",
            "Epoch 20: Train Loss 0.3798, Train Acc 0.8486, Val Loss 0.3217, Val Acc 0.8267\n",
            "Epoch 21: Train Loss 0.3603, Train Acc 0.8557, Val Loss 0.3273, Val Acc 0.8667\n",
            "Epoch 22: Train Loss 0.3684, Train Acc 0.8471, Val Loss 0.2994, Val Acc 0.8867\n",
            "Epoch 23: Train Loss 0.3432, Train Acc 0.8500, Val Loss 0.2976, Val Acc 0.8467\n",
            "Epoch 24: Train Loss 0.3188, Train Acc 0.8600, Val Loss 0.2998, Val Acc 0.8400\n",
            "Epoch 25: Train Loss 0.4152, Train Acc 0.8386, Val Loss 0.3289, Val Acc 0.8333\n",
            "Epoch 26: Train Loss 0.3315, Train Acc 0.8586, Val Loss 0.3054, Val Acc 0.8133\n",
            "Epoch 27: Train Loss 0.3085, Train Acc 0.8686, Val Loss 0.3016, Val Acc 0.8333\n",
            "Epoch 28: Train Loss 0.3415, Train Acc 0.8471, Val Loss 0.2759, Val Acc 0.8533\n",
            "Epoch 29: Train Loss 0.3233, Train Acc 0.8571, Val Loss 0.3145, Val Acc 0.8600\n",
            "Epoch 30: Train Loss 0.3117, Train Acc 0.8529, Val Loss 0.2643, Val Acc 0.8733\n",
            "Epoch 31: Train Loss 0.3389, Train Acc 0.8557, Val Loss 0.3001, Val Acc 0.8000\n",
            "Epoch 32: Train Loss 0.2991, Train Acc 0.8686, Val Loss 0.2456, Val Acc 0.8867\n",
            "Epoch 33: Train Loss 0.3128, Train Acc 0.8629, Val Loss 0.2520, Val Acc 0.9067\n",
            "Epoch 34: Train Loss 0.2777, Train Acc 0.8943, Val Loss 0.2702, Val Acc 0.8733\n",
            "Epoch 35: Train Loss 0.3423, Train Acc 0.8571, Val Loss 0.2417, Val Acc 0.8933\n",
            "Epoch 36: Train Loss 0.3006, Train Acc 0.8657, Val Loss 0.2410, Val Acc 0.8867\n",
            "Epoch 37: Train Loss 0.2961, Train Acc 0.8714, Val Loss 0.2706, Val Acc 0.8333\n",
            "Epoch 38: Train Loss 0.3031, Train Acc 0.8729, Val Loss 0.2718, Val Acc 0.8600\n",
            "Epoch 39: Train Loss 0.3337, Train Acc 0.8729, Val Loss 0.2451, Val Acc 0.8867\n",
            "Epoch 40: Train Loss 0.2718, Train Acc 0.8957, Val Loss 0.2401, Val Acc 0.8933\n",
            "Epoch 41: Train Loss 0.2764, Train Acc 0.8871, Val Loss 0.2178, Val Acc 0.9133\n",
            "Epoch 42: Train Loss 0.3021, Train Acc 0.8729, Val Loss 0.2967, Val Acc 0.8733\n",
            "Epoch 43: Train Loss 0.3366, Train Acc 0.8614, Val Loss 0.2663, Val Acc 0.8933\n",
            "Epoch 44: Train Loss 0.2866, Train Acc 0.8914, Val Loss 0.3086, Val Acc 0.8533\n",
            "Epoch 45: Train Loss 0.3191, Train Acc 0.8700, Val Loss 0.2585, Val Acc 0.8800\n",
            "Epoch 46: Train Loss 0.3175, Train Acc 0.8686, Val Loss 0.2538, Val Acc 0.8667\n",
            "Epoch 47: Train Loss 0.2723, Train Acc 0.8757, Val Loss 0.2536, Val Acc 0.8800\n",
            "Epoch 48: Train Loss 0.2789, Train Acc 0.8800, Val Loss 0.2263, Val Acc 0.8800\n",
            "Epoch 49: Train Loss 0.2455, Train Acc 0.9043, Val Loss 0.2453, Val Acc 0.8733\n",
            "Epoch 50: Train Loss 0.3147, Train Acc 0.8571, Val Loss 0.3130, Val Acc 0.8467\n"
          ]
        }
      ]
    },
    {
      "cell_type": "code",
      "source": [
        "model.eval()\n",
        "\n",
        "correct_pred = 0\n",
        "total_samples = 0\n",
        "test_loss = 0.0\n",
        "\n",
        "with torch.no_grad():\n",
        "    for X, y in test_loader:\n",
        "        X, y = X.to(device), y.to(device)\n",
        "        outputs = model(X)\n",
        "        loss = criterion(outputs, y)\n",
        "        test_loss += loss.item()\n",
        "\n",
        "        _, predicted = outputs.max(1)\n",
        "        correct_pred += (predicted == y).sum().item()\n",
        "        total_samples += y.size(0)\n",
        "\n",
        "print(total_samples)\n",
        "avg_test_loss = test_loss / total_samples\n",
        "accuracy = (correct_pred / total_samples) * 100.0\n",
        "\n",
        "print(\"Test Loss:\", avg_test_loss)\n",
        "print(\"Test Accuracy:\", accuracy)"
      ],
      "metadata": {
        "colab": {
          "base_uri": "https://localhost:8080/"
        },
        "id": "HTMyN0ABV0nA",
        "outputId": "502817ab-eeda-45ce-d889-75191e7202fd"
      },
      "execution_count": 11,
      "outputs": [
        {
          "output_type": "stream",
          "name": "stdout",
          "text": [
            "150\n",
            "Test Loss: 0.008408473134040832\n",
            "Test Accuracy: 86.66666666666667\n"
          ]
        }
      ]
    },
    {
      "cell_type": "code",
      "source": [
        "torch.save(model.state_dict(), \"new_pose_classifier.pth\")"
      ],
      "metadata": {
        "id": "e3DD52Nfvrtt"
      },
      "execution_count": null,
      "outputs": []
    },
    {
      "cell_type": "code",
      "source": [
        "# test model with keypoints\n",
        "import torch\n",
        "import numpy as np\n",
        "\n",
        "# Example MediaPipe landmarks mapped to COCO order\n",
        "mapped_landmarks = [\n",
        "    (0.6435, 0.5777),  # nose\n",
        "    (0.6419, 0.5665),  # left_eye\n",
        "    (0.6464, 0.5722),  # right_eye\n",
        "    (0.6349, 0.5679),  # left_ear\n",
        "    (0.6432, 0.5792),  # right_ear\n",
        "    (0.6016, 0.5876),  # left_shoulder\n",
        "    (0.6296, 0.6395),  # right_shoulder\n",
        "    (0.6015, 0.6370),  # left_elbow\n",
        "    (0.6580, 0.7169),  # right_elbow\n",
        "    (0.6401, 0.6691),  # left_wrist\n",
        "    (0.6997, 0.7613),  # right_wrist\n",
        "    (0.5526, 0.7405),  # left_hip\n",
        "    (0.5679, 0.7619),  # right_hip\n",
        "    (0.5841, 0.8262),  # left_knee\n",
        "    (0.5996, 0.8609),  # right_knee\n",
        "    (0.5792, 0.9532),  # left_ankle\n",
        "    (0.5829, 0.9725),  # right_ankle\n",
        "    (0.6156, 0.6135),  # neck (avg shoulders in practice)\n",
        "]\n",
        "converted_landmarkes = []\n",
        "\n",
        "# convert landmarks to 1280 x 720\n",
        "for x,y in mapped_landmarks:\n",
        "    x = int(x * 1280)\n",
        "    y = int(y * 720)\n",
        "    converted_landmarkes.append((x,y))\n",
        "\n",
        "x = np.array(converted_landmarkes).flatten()  # shape (36,)\n",
        "x_tensor = torch.tensor(x, dtype=torch.float32).unsqueeze(0)  # shape (1,36)\n",
        "x_tensor = x_tensor.to(device) # Move tensor to the same device as the model\n",
        "\n",
        "model.eval()\n",
        "with torch.no_grad():\n",
        "    pred = model(x_tensor)\n",
        "    predicted_class = pred.softmax(dim=1)\n",
        "\n",
        "print(predicted_class)\n",
        "\n",
        "print(\"Predicted class:\", class_names[int(predicted_class.argmax())])"
      ],
      "metadata": {
        "colab": {
          "base_uri": "https://localhost:8080/"
        },
        "id": "kfCBRH7Snh4M",
        "outputId": "366d4e0f-7f8e-4944-ceac-6df59b02ba43"
      },
      "execution_count": null,
      "outputs": [
        {
          "output_type": "stream",
          "name": "stdout",
          "text": [
            "tensor([[0.0316, 0.9684]], device='cuda:0')\n",
            "Predicted class: Forehand\n"
          ]
        }
      ]
    }
  ]
}