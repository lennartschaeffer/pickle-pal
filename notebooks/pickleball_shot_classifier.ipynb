{
  "nbformat": 4,
  "nbformat_minor": 0,
  "metadata": {
    "colab": {
      "provenance": [],
      "gpuType": "T4"
    },
    "kernelspec": {
      "name": "python3",
      "display_name": "Python 3"
    },
    "language_info": {
      "name": "python"
    },
    "accelerator": "GPU"
  },
  "cells": [
    {
      "cell_type": "code",
      "execution_count": 1,
      "metadata": {
        "colab": {
          "base_uri": "https://localhost:8080/"
        },
        "id": "gtYuY8uB2ij_",
        "outputId": "ce5fe8ce-fa29-43fc-f1c0-44e63653264a"
      },
      "outputs": [
        {
          "output_type": "stream",
          "name": "stdout",
          "text": [
            "Requirement already satisfied: kagglehub in /usr/local/lib/python3.12/dist-packages (0.3.12)\n",
            "Requirement already satisfied: packaging in /usr/local/lib/python3.12/dist-packages (from kagglehub) (25.0)\n",
            "Requirement already satisfied: pyyaml in /usr/local/lib/python3.12/dist-packages (from kagglehub) (6.0.2)\n",
            "Requirement already satisfied: requests in /usr/local/lib/python3.12/dist-packages (from kagglehub) (2.32.4)\n",
            "Requirement already satisfied: tqdm in /usr/local/lib/python3.12/dist-packages (from kagglehub) (4.67.1)\n",
            "Requirement already satisfied: charset_normalizer<4,>=2 in /usr/local/lib/python3.12/dist-packages (from requests->kagglehub) (3.4.3)\n",
            "Requirement already satisfied: idna<4,>=2.5 in /usr/local/lib/python3.12/dist-packages (from requests->kagglehub) (3.10)\n",
            "Requirement already satisfied: urllib3<3,>=1.21.1 in /usr/local/lib/python3.12/dist-packages (from requests->kagglehub) (2.5.0)\n",
            "Requirement already satisfied: certifi>=2017.4.17 in /usr/local/lib/python3.12/dist-packages (from requests->kagglehub) (2025.8.3)\n",
            "Warning: Looks like you're using an outdated `kagglehub` version (installed: 0.3.12), please consider upgrading to the latest version (0.3.13).\n",
            "Downloading from https://www.kaggle.com/api/v1/datasets/download/orvile/tennis-player-actions-dataset?dataset_version_number=1...\n"
          ]
        },
        {
          "output_type": "stream",
          "name": "stderr",
          "text": [
            "100%|██████████| 503M/503M [00:02<00:00, 179MB/s]"
          ]
        },
        {
          "output_type": "stream",
          "name": "stdout",
          "text": [
            "Extracting files...\n"
          ]
        },
        {
          "output_type": "stream",
          "name": "stderr",
          "text": [
            "\n"
          ]
        },
        {
          "output_type": "stream",
          "name": "stdout",
          "text": [
            "Dataset files saved to: /root/.cache/kagglehub/datasets/orvile/tennis-player-actions-dataset/versions/1\n",
            "Files: ['Tennis Player Actions Dataset for Human Pose Estimation']\n"
          ]
        }
      ],
      "source": [
        "!pip install kagglehub\n",
        "\n",
        "import kagglehub\n",
        "import os\n",
        "\n",
        "# Download dataset\n",
        "path = kagglehub.dataset_download(\"orvile/tennis-player-actions-dataset\")\n",
        "\n",
        "print(\"Dataset files saved to:\", path)\n",
        "print(\"Files:\", os.listdir(path))\n"
      ]
    },
    {
      "cell_type": "code",
      "source": [
        "for root, dirs, files in os.walk(path):\n",
        "    level = root.replace(path, \"\").count(os.sep)  # indent based on depth\n",
        "    indent = \" \" * 4 * level\n",
        "    print(f\"{indent}{os.path.basename(root)}/\")\n",
        "    subindent = \" \" * 4 * (level + 1)\n",
        "    # print files inside annotations folder\n",
        "    if \"annotations\" in root:\n",
        "        for f in files:\n",
        "            print(f\"{subindent}{f}\")"
      ],
      "metadata": {
        "colab": {
          "base_uri": "https://localhost:8080/"
        },
        "id": "TS0pE6XXxYuV",
        "outputId": "d8ad4eb7-caf3-4023-cf9e-0ae237562851"
      },
      "execution_count": 2,
      "outputs": [
        {
          "output_type": "stream",
          "name": "stdout",
          "text": [
            "1/\n",
            "    Tennis Player Actions Dataset for Human Pose Estimation/\n",
            "        annotations/\n",
            "            ready_position.json\n",
            "            serve.json\n",
            "            forehand.json\n",
            "            backhand.json\n",
            "        images/\n",
            "            ready_position/\n",
            "            serve/\n",
            "            forehand/\n",
            "            backhand/\n"
          ]
        }
      ]
    },
    {
      "cell_type": "code",
      "source": [
        "class_names = [\"Backhand\", \"Forehand\"]\n",
        "global_cat2label = {name: idx for idx, name in enumerate(class_names)}"
      ],
      "metadata": {
        "id": "nbaj029esVmo"
      },
      "execution_count": 16,
      "outputs": []
    },
    {
      "cell_type": "code",
      "source": [
        "import json\n",
        "from torch.utils.data import Dataset\n",
        "import numpy as np\n",
        "import torch\n",
        "from torch.utils.data import DataLoader\n",
        "import torch.nn as nn\n",
        "\n",
        "class PoseDataset(Dataset):\n",
        "    def __init__(self, annotation_file, cat2label, transform=None):\n",
        "        with open(annotation_file, \"r\") as f:\n",
        "            self.coco = json.load(f)\n",
        "\n",
        "        self.images = {img[\"id\"]: img for img in self.coco[\"images\"]}\n",
        "        self.annotations = self.coco[\"annotations\"]\n",
        "\n",
        "        self.cat2label = cat2label\n",
        "        self.transform = transform\n",
        "\n",
        "    def __len__(self):\n",
        "        return len(self.annotations)\n",
        "\n",
        "    def __getitem__(self, idx):\n",
        "        ann = self.annotations[idx]\n",
        "        keypoints = np.array(ann[\"keypoints\"]).reshape(-1, 3)[:, :2]\n",
        "        category = ann[\"category_id\"]\n",
        "\n",
        "        # Find the category name from the JSON\n",
        "        cat_name = next(cat[\"name\"] for cat in self.coco[\"categories\"] if cat[\"id\"] == category)\n",
        "        label = self.cat2label[cat_name]\n",
        "\n",
        "        keypoints = torch.tensor(keypoints, dtype=torch.float32).flatten()\n",
        "        label = torch.tensor(label, dtype=torch.long)\n",
        "\n",
        "        return keypoints, label\n"
      ],
      "metadata": {
        "id": "-7wC3wMh5bsP"
      },
      "execution_count": 21,
      "outputs": []
    },
    {
      "cell_type": "code",
      "source": [
        "class PoseClassifier(nn.Module):\n",
        "    def __init__(self, num_classes=2, num_keypoints=18):\n",
        "        super().__init__()\n",
        "        self.fc = nn.Sequential(\n",
        "            nn.Linear(num_keypoints * 2, 128), # 17 joints, all with x,y vals\n",
        "            nn.ReLU(),\n",
        "            nn.Dropout(0.3),\n",
        "            nn.Linear(128, 64),\n",
        "            nn.ReLU(),\n",
        "            nn.Linear(64, num_classes)\n",
        "        )\n",
        "\n",
        "    def forward(self, x):\n",
        "        return self.fc(x)"
      ],
      "metadata": {
        "id": "c9iUHxxwquor"
      },
      "execution_count": 22,
      "outputs": []
    },
    {
      "cell_type": "code",
      "source": [
        "from torch.utils.data import ConcatDataset\n",
        "from torch.utils.data import random_split\n",
        "\n",
        "annotation_dir = os.path.join(path, \"Tennis Player Actions Dataset for Human Pose Estimation\", \"annotations\")\n",
        "\n",
        "class_names = [\"Backhand\", \"Forehand\"]\n",
        "global_cat2label = {name: idx for idx, name in enumerate(class_names)}\n",
        "\n",
        "datasets_list = []\n",
        "for fname in [\"backhand.json\", \"forehand.json\"]:\n",
        "    dataset_part = PoseDataset(os.path.join(annotation_dir, fname), cat2label=global_cat2label)\n",
        "    datasets_list.append(dataset_part)\n",
        "\n",
        "dataset = ConcatDataset(datasets_list)\n",
        "\n",
        "train_size = int(0.8 * len(dataset))\n",
        "val_size = len(dataset) - train_size\n",
        "train_dataset, val_dataset = random_split(dataset, [train_size, val_size])\n",
        "\n",
        "train_loader = DataLoader(train_dataset, batch_size=32, shuffle=True)\n",
        "val_loader = DataLoader(val_dataset, batch_size=32, shuffle=False)"
      ],
      "metadata": {
        "id": "kmlWf4KpqwG5"
      },
      "execution_count": 23,
      "outputs": []
    },
    {
      "cell_type": "code",
      "source": [
        "device = torch.device(\"cuda\" if torch.cuda.is_available() else \"cpu\")\n",
        "\n",
        "model = PoseClassifier(num_classes=2).to(device)\n",
        "criterion = nn.CrossEntropyLoss()\n",
        "optimizer = torch.optim.Adam(model.parameters(), lr=1e-3)\n",
        "\n",
        "for epoch in range(40):\n",
        "    model.train()\n",
        "    total_loss, correct, total = 0, 0, 0\n",
        "\n",
        "    for X, y in train_loader:\n",
        "        X, y = X.to(device), y.to(device)\n",
        "\n",
        "        optimizer.zero_grad()\n",
        "        outputs = model(X)\n",
        "        loss = criterion(outputs, y)\n",
        "        loss.backward()\n",
        "        optimizer.step()\n",
        "\n",
        "        total_loss += loss.item()\n",
        "        _, predicted = outputs.max(1)\n",
        "        correct += (predicted == y).sum().item()\n",
        "        total += y.size(0)\n",
        "\n",
        "    train_acc = correct / total\n",
        "\n",
        "    # validation\n",
        "    model.eval()\n",
        "    val_correct, val_total, val_loss = 0, 0, 0\n",
        "    with torch.no_grad():\n",
        "        for X, y in val_loader:\n",
        "            X, y = X.to(device), y.to(device)\n",
        "            outputs = model(X)\n",
        "            loss = criterion(outputs, y)\n",
        "            val_loss += loss.item()\n",
        "\n",
        "            _, predicted = outputs.max(1)\n",
        "            val_correct += (predicted == y).sum().item()\n",
        "            val_total += y.size(0)\n",
        "\n",
        "    val_acc = val_correct / val_total\n",
        "\n",
        "    print(f\"Epoch {epoch+1}: \"\n",
        "          f\"Train Loss {total_loss/len(train_loader):.4f}, Train Acc {train_acc:.4f}, \"\n",
        "          f\"Val Loss {val_loss/len(val_loader):.4f}, Val Acc {val_acc:.4f}\")"
      ],
      "metadata": {
        "colab": {
          "base_uri": "https://localhost:8080/"
        },
        "id": "vuZ6HQHYqxbc",
        "outputId": "d3585384-61fe-43c7-fcbe-de3c8bf7948c"
      },
      "execution_count": 26,
      "outputs": [
        {
          "output_type": "stream",
          "name": "stdout",
          "text": [
            "Epoch 1: Train Loss 11.7031, Train Acc 0.6138, Val Loss 7.1057, Val Acc 0.5150\n",
            "Epoch 2: Train Loss 4.7155, Train Acc 0.6225, Val Loss 3.3524, Val Acc 0.4900\n",
            "Epoch 3: Train Loss 2.0592, Train Acc 0.7350, Val Loss 1.8185, Val Acc 0.6800\n",
            "Epoch 4: Train Loss 1.9573, Train Acc 0.6825, Val Loss 0.8598, Val Acc 0.7700\n",
            "Epoch 5: Train Loss 1.2033, Train Acc 0.7425, Val Loss 0.5176, Val Acc 0.8550\n",
            "Epoch 6: Train Loss 0.8959, Train Acc 0.7625, Val Loss 0.4731, Val Acc 0.8450\n",
            "Epoch 7: Train Loss 0.7618, Train Acc 0.7788, Val Loss 0.4962, Val Acc 0.8550\n",
            "Epoch 8: Train Loss 0.5693, Train Acc 0.7987, Val Loss 0.4082, Val Acc 0.8900\n",
            "Epoch 9: Train Loss 0.6438, Train Acc 0.7738, Val Loss 0.6316, Val Acc 0.7150\n",
            "Epoch 10: Train Loss 0.4890, Train Acc 0.8100, Val Loss 0.3510, Val Acc 0.9000\n",
            "Epoch 11: Train Loss 0.5043, Train Acc 0.8125, Val Loss 0.2991, Val Acc 0.8850\n",
            "Epoch 12: Train Loss 0.3682, Train Acc 0.8375, Val Loss 0.2942, Val Acc 0.9100\n",
            "Epoch 13: Train Loss 0.4025, Train Acc 0.8400, Val Loss 0.4555, Val Acc 0.8050\n",
            "Epoch 14: Train Loss 0.4633, Train Acc 0.8100, Val Loss 0.3902, Val Acc 0.8950\n",
            "Epoch 15: Train Loss 0.3709, Train Acc 0.8675, Val Loss 0.3501, Val Acc 0.8900\n",
            "Epoch 16: Train Loss 0.3681, Train Acc 0.8612, Val Loss 0.2964, Val Acc 0.9250\n",
            "Epoch 17: Train Loss 0.3357, Train Acc 0.8625, Val Loss 0.2644, Val Acc 0.8800\n",
            "Epoch 18: Train Loss 0.3820, Train Acc 0.8538, Val Loss 0.2490, Val Acc 0.9300\n",
            "Epoch 19: Train Loss 0.3638, Train Acc 0.8462, Val Loss 0.3640, Val Acc 0.9100\n",
            "Epoch 20: Train Loss 0.3040, Train Acc 0.8888, Val Loss 0.2425, Val Acc 0.9250\n",
            "Epoch 21: Train Loss 0.2873, Train Acc 0.8788, Val Loss 0.2512, Val Acc 0.9250\n",
            "Epoch 22: Train Loss 0.3349, Train Acc 0.8575, Val Loss 0.3810, Val Acc 0.9050\n",
            "Epoch 23: Train Loss 0.3228, Train Acc 0.8625, Val Loss 0.2494, Val Acc 0.9150\n",
            "Epoch 24: Train Loss 0.3538, Train Acc 0.8700, Val Loss 0.2976, Val Acc 0.9250\n",
            "Epoch 25: Train Loss 0.2809, Train Acc 0.8838, Val Loss 0.3195, Val Acc 0.9100\n",
            "Epoch 26: Train Loss 0.3698, Train Acc 0.8575, Val Loss 0.2915, Val Acc 0.9050\n",
            "Epoch 27: Train Loss 0.3359, Train Acc 0.8512, Val Loss 0.2687, Val Acc 0.9200\n",
            "Epoch 28: Train Loss 0.3054, Train Acc 0.8750, Val Loss 0.2286, Val Acc 0.9300\n",
            "Epoch 29: Train Loss 0.3549, Train Acc 0.8488, Val Loss 0.5002, Val Acc 0.8150\n",
            "Epoch 30: Train Loss 0.3617, Train Acc 0.8462, Val Loss 0.2205, Val Acc 0.9400\n",
            "Epoch 31: Train Loss 0.2544, Train Acc 0.9075, Val Loss 0.2062, Val Acc 0.9350\n",
            "Epoch 32: Train Loss 0.2544, Train Acc 0.8950, Val Loss 0.1834, Val Acc 0.9350\n",
            "Epoch 33: Train Loss 0.2792, Train Acc 0.8812, Val Loss 0.2894, Val Acc 0.9300\n",
            "Epoch 34: Train Loss 0.2716, Train Acc 0.8912, Val Loss 0.2265, Val Acc 0.9300\n",
            "Epoch 35: Train Loss 0.3380, Train Acc 0.8675, Val Loss 0.2734, Val Acc 0.8800\n",
            "Epoch 36: Train Loss 0.3065, Train Acc 0.8625, Val Loss 0.2139, Val Acc 0.9450\n",
            "Epoch 37: Train Loss 0.2756, Train Acc 0.8850, Val Loss 0.2970, Val Acc 0.9150\n",
            "Epoch 38: Train Loss 0.2949, Train Acc 0.8825, Val Loss 0.2316, Val Acc 0.9550\n",
            "Epoch 39: Train Loss 0.3260, Train Acc 0.8662, Val Loss 0.3986, Val Acc 0.8400\n",
            "Epoch 40: Train Loss 0.2820, Train Acc 0.8862, Val Loss 0.2201, Val Acc 0.9400\n"
          ]
        }
      ]
    },
    {
      "cell_type": "code",
      "source": [
        "torch.save(model.state_dict(), \"new_pose_classifier.pth\")"
      ],
      "metadata": {
        "id": "e3DD52Nfvrtt"
      },
      "execution_count": 29,
      "outputs": []
    },
    {
      "cell_type": "code",
      "source": [
        "# test model with keypoints\n",
        "import torch\n",
        "import numpy as np\n",
        "\n",
        "# Example MediaPipe landmarks mapped to COCO order\n",
        "mapped_landmarks = [\n",
        "    (0.6435, 0.5777),  # nose\n",
        "    (0.6419, 0.5665),  # left_eye\n",
        "    (0.6464, 0.5722),  # right_eye\n",
        "    (0.6349, 0.5679),  # left_ear\n",
        "    (0.6432, 0.5792),  # right_ear\n",
        "    (0.6016, 0.5876),  # left_shoulder\n",
        "    (0.6296, 0.6395),  # right_shoulder\n",
        "    (0.6015, 0.6370),  # left_elbow\n",
        "    (0.6580, 0.7169),  # right_elbow\n",
        "    (0.6401, 0.6691),  # left_wrist\n",
        "    (0.6997, 0.7613),  # right_wrist\n",
        "    (0.5526, 0.7405),  # left_hip\n",
        "    (0.5679, 0.7619),  # right_hip\n",
        "    (0.5841, 0.8262),  # left_knee\n",
        "    (0.5996, 0.8609),  # right_knee\n",
        "    (0.5792, 0.9532),  # left_ankle\n",
        "    (0.5829, 0.9725),  # right_ankle\n",
        "    (0.6156, 0.6135),  # neck (avg shoulders in practice)\n",
        "]\n",
        "converted_landmarkes = []\n",
        "\n",
        "# convert landmarks to 1280 x 720\n",
        "for x,y in mapped_landmarks:\n",
        "    x = int(x * 1280)\n",
        "    y = int(y * 720)\n",
        "    converted_landmarkes.append((x,y))\n",
        "\n",
        "x = np.array(converted_landmarkes).flatten()  # shape (36,)\n",
        "x_tensor = torch.tensor(x, dtype=torch.float32).unsqueeze(0)  # shape (1,36)\n",
        "x_tensor = x_tensor.to(device) # Move tensor to the same device as the model\n",
        "\n",
        "model.eval()\n",
        "with torch.no_grad():\n",
        "    pred = model(x_tensor)\n",
        "    predicted_class = pred.softmax(dim=1)\n",
        "\n",
        "print(predicted_class)\n",
        "\n",
        "print(\"Predicted class:\", class_names[int(predicted_class.argmax())])"
      ],
      "metadata": {
        "colab": {
          "base_uri": "https://localhost:8080/"
        },
        "id": "kfCBRH7Snh4M",
        "outputId": "366d4e0f-7f8e-4944-ceac-6df59b02ba43"
      },
      "execution_count": 36,
      "outputs": [
        {
          "output_type": "stream",
          "name": "stdout",
          "text": [
            "tensor([[0.0316, 0.9684]], device='cuda:0')\n",
            "Predicted class: Forehand\n"
          ]
        }
      ]
    }
  ]
}